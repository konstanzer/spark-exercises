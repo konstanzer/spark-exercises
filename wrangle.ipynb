{
 "cells": [
  {
   "cell_type": "code",
   "execution_count": 1,
   "id": "c6af56ff-f419-4afa-a36d-50cc0d8ef6d7",
   "metadata": {
    "collapsed": true,
    "jupyter": {
     "outputs_hidden": true
    },
    "tags": []
   },
   "outputs": [
    {
     "name": "stderr",
     "output_type": "stream",
     "text": [
      "WARNING: An illegal reflective access operation has occurred\n",
      "WARNING: Illegal reflective access by org.apache.spark.unsafe.Platform (file:/opt/miniconda3/lib/python3.8/site-packages/pyspark/jars/spark-unsafe_2.12-3.2.0.jar) to constructor java.nio.DirectByteBuffer(long,int)\n",
      "WARNING: Please consider reporting this to the maintainers of org.apache.spark.unsafe.Platform\n",
      "WARNING: Use --illegal-access=warn to enable warnings of further illegal reflective access operations\n",
      "WARNING: All illegal access operations will be denied in a future release\n",
      "Using Spark's default log4j profile: org/apache/spark/log4j-defaults.properties\n",
      "Setting default log level to \"WARN\".\n",
      "To adjust logging level use sc.setLogLevel(newLevel). For SparkR, use setLogLevel(newLevel).\n",
      "21/11/09 14:33:36 WARN NativeCodeLoader: Unable to load native-hadoop library for your platform... using builtin-java classes where applicable\n",
      "21/11/09 14:33:38 WARN Utils: Service 'SparkUI' could not bind on port 4040. Attempting port 4041.\n"
     ]
    }
   ],
   "source": [
    "from pyspark.sql import SparkSession\n",
    "from pyspark.sql.functions import *\n",
    "\n",
    "spark = SparkSession.builder.getOrCreate()"
   ]
  },
  {
   "cell_type": "code",
   "execution_count": 55,
   "id": "7cc330c1-cc14-4fa8-af8a-925cad09ad6f",
   "metadata": {},
   "outputs": [
    {
     "name": "stderr",
     "output_type": "stream",
     "text": [
      "                                                                                \r"
     ]
    }
   ],
   "source": [
    "case = spark.read.csv(\"data/case.csv\", sep=\",\",\n",
    "                      header=True, inferSchema=True)\n",
    "dept = spark.read.csv(\"data/dept.csv\", sep=\",\",\n",
    "                      header=True, inferSchema=True)\n",
    "src = spark.read.csv(\"data/source.csv\", sep=\",\",\n",
    "                     header=True, inferSchema=True)"
   ]
  },
  {
   "cell_type": "code",
   "execution_count": 8,
   "id": "faa6ccc7-9a78-4c0e-91fa-919303d71d72",
   "metadata": {},
   "outputs": [],
   "source": [
    "#create subdirectory with data and _SUCCESS text file\n",
    "src.write.json(\"data/source_json\", mode=\"overwrite\")\n",
    "src.write.csv(\"data/source_csv\", mode=\"overwrite\")"
   ]
  },
  {
   "cell_type": "code",
   "execution_count": 13,
   "id": "aa63d584-f848-413f-818c-93ec44c0e419",
   "metadata": {},
   "outputs": [
    {
     "name": "stdout",
     "output_type": "stream",
     "text": [
      "root\n",
      " |-- case_id: integer (nullable = true)\n",
      " |-- case_opened_date: string (nullable = true)\n",
      " |-- case_closed_date: string (nullable = true)\n",
      " |-- SLA_due_date: string (nullable = true)\n",
      " |-- case_late: string (nullable = true)\n",
      " |-- num_days_late: double (nullable = true)\n",
      " |-- case_closed: string (nullable = true)\n",
      " |-- dept_division: string (nullable = true)\n",
      " |-- service_request_type: string (nullable = true)\n",
      " |-- SLA_days: double (nullable = true)\n",
      " |-- case_status: string (nullable = true)\n",
      " |-- source_id: string (nullable = true)\n",
      " |-- request_address: string (nullable = true)\n",
      " |-- council_district: integer (nullable = true)\n",
      "\n",
      "root\n",
      " |-- dept_division: string (nullable = true)\n",
      " |-- dept_name: string (nullable = true)\n",
      " |-- standardized_dept_name: string (nullable = true)\n",
      " |-- dept_subject_to_SLA: string (nullable = true)\n",
      "\n",
      "root\n",
      " |-- source_id: string (nullable = true)\n",
      " |-- source_username: string (nullable = true)\n",
      "\n"
     ]
    }
   ],
   "source": [
    "case.printSchema()\n",
    "dept.printSchema()\n",
    "src.printSchema()"
   ]
  },
  {
   "cell_type": "markdown",
   "id": "f987406b-cd8f-4727-b52a-b1b2354b4434",
   "metadata": {},
   "source": [
    "\n",
    "    How old is the latest (in terms of days past SLA) currently open issue?\n",
    "    \n",
    "    How long has the oldest (in terms of days since opened) currently opened issue been open?\n",
    "    \n",
    "    How many Stray Animal cases are there?\n",
    "\n",
    "    How many service requests that are assigned to the Field Operations department (dept_division) are not classified as \"Officer Standby\" request type (service_request_type)?\n",
    "\n",
    "    Convert the council_district column to a string column.\n",
    "    \n",
    "    Extract the year from the case_closed_date column.\n",
    "\n",
    "    Convert num_days_late from days to hours in new columns num_hours_late.\n",
    "\n",
    "    Join the case data with the source and department data.\n",
    "\n",
    "    Are there any cases that do not have a request source?\n",
    "\n",
    "    What are the top 10 service request types in terms of number of requests?\n",
    "    \n",
    "    What are the top 10 service request types in terms of average days late?\n",
    "    \n",
    "    Does number of days late depend on department?\n",
    "    \n",
    "    How do number of days late depend on department and request type?\n"
   ]
  },
  {
   "cell_type": "code",
   "execution_count": 56,
   "id": "25bc4061-47ba-414c-842a-44d16a2f20ff",
   "metadata": {},
   "outputs": [
    {
     "name": "stdout",
     "output_type": "stream",
     "text": [
      "-RECORD 0----------------------------------------------------\n",
      " case_id              | 1014127332                           \n",
      " case_opened_date     | 2018-01-01 00:42:00                  \n",
      " case_closed_date     | 2018-01-01 12:29:00                  \n",
      " SLA_due_date         | 2020-09-26 00:42:00                  \n",
      " case_late            | NO                                   \n",
      " num_days_late        | -998.5087616000001                   \n",
      " case_closed          | YES                                  \n",
      " dept_division        | Field Operations                     \n",
      " service_request_type | Stray Animal                         \n",
      " SLA_days             | 999.0                                \n",
      " case_status          | Closed                               \n",
      " source_id            | svcCRMLS                             \n",
      " request_address      | 2315  EL PASO ST, San Antonio, 78207 \n",
      " council_district     | 5                                    \n",
      "only showing top 1 row\n",
      "\n"
     ]
    }
   ],
   "source": [
    "#reformat dates\n",
    "fmt = \"M/d/yy H:mm\"\n",
    "case = case.withColumn(\"case_opened_date\", to_timestamp(\"case_opened_date\", fmt))\\\n",
    "            .withColumn(\"case_closed_date\", to_timestamp(\"case_closed_date\", fmt))\\\n",
    "            .withColumn(\"SLA_due_date\", to_timestamp(\"SLA_due_date\", fmt))\n",
    "\n",
    "case.show(1, vertical=True, truncate=False)"
   ]
  },
  {
   "cell_type": "code",
   "execution_count": 57,
   "id": "d5b3fd21-a18b-4c67-8e4d-a08a49cc2a01",
   "metadata": {
    "tags": []
   },
   "outputs": [],
   "source": [
    "open_ = case.filter(expr('case_closed==\"NO\"'))\\\n",
    "             .withColumn('days_past_SLA', datediff(current_timestamp(), 'SLA_due_date'))\\\n",
    "             .withColumn('duration', datediff(current_timestamp(), 'case_opened_date'))"
   ]
  },
  {
   "cell_type": "code",
   "execution_count": 62,
   "id": "c8447ea7-eec9-4138-a397-4e51827501d6",
   "metadata": {},
   "outputs": [
    {
     "name": "stderr",
     "output_type": "stream",
     "text": [
      "                                                                                \r"
     ]
    },
    {
     "name": "stdout",
     "output_type": "stream",
     "text": [
      "+------------------+\n",
      "|min(days_past_SLA)|\n",
      "+------------------+\n",
      "|              -162|\n",
      "+------------------+\n",
      "\n"
     ]
    },
    {
     "name": "stderr",
     "output_type": "stream",
     "text": [
      "[Stage 95:>                                                         (0 + 4) / 4]\r"
     ]
    },
    {
     "name": "stdout",
     "output_type": "stream",
     "text": [
      "+-------------+\n",
      "|max(duration)|\n",
      "+-------------+\n",
      "|         1407|\n",
      "+-------------+\n",
      "\n"
     ]
    },
    {
     "name": "stderr",
     "output_type": "stream",
     "text": [
      "                                                                                \r"
     ]
    }
   ],
   "source": [
    "#latest issue\n",
    "open_.select(min('days_past_SLA')).show()\n",
    "#oldest issue\n",
    "open_.select(max('duration')).show()"
   ]
  },
  {
   "cell_type": "code",
   "execution_count": 64,
   "id": "ff83c6b5-2259-497b-8662-20faf0bafaf0",
   "metadata": {},
   "outputs": [
    {
     "name": "stderr",
     "output_type": "stream",
     "text": [
      "                                                                                \r"
     ]
    },
    {
     "data": {
      "text/plain": [
       "9325"
      ]
     },
     "execution_count": 64,
     "metadata": {},
     "output_type": "execute_result"
    }
   ],
   "source": [
    "#strays\n",
    "case.where(expr('service_request_type==\"Stray Animal\"')).count()"
   ]
  },
  {
   "cell_type": "code",
   "execution_count": 63,
   "id": "ca97c66f-fb52-4c08-b42c-2fadd5611961",
   "metadata": {},
   "outputs": [
    {
     "name": "stderr",
     "output_type": "stream",
     "text": [
      "                                                                                \r"
     ]
    },
    {
     "data": {
      "text/plain": [
       "39810"
      ]
     },
     "execution_count": 63,
     "metadata": {},
     "output_type": "execute_result"
    }
   ],
   "source": [
    "#field operations and not officer standby\n",
    "case.where(expr('dept_division==\"Field Operations\"'))\\\n",
    "    .where(expr('service_request_type!=\"Officer Standby\"')).count()"
   ]
  },
  {
   "cell_type": "code",
   "execution_count": 65,
   "id": "ad61b058-e82a-43b1-ae42-0f289d47d67d",
   "metadata": {},
   "outputs": [],
   "source": [
    "#wrangle\n",
    "case = case.withColumn(\"council_district\", col(\"council_district\").cast(\"string\"))\n",
    "year = case.withColumn('year', year('case_closed_date'))\n",
    "case = case.withColumn(\"num_hours_late\", expr(\"num_days_late * 24 AS num_hours_late\"))"
   ]
  },
  {
   "cell_type": "code",
   "execution_count": 83,
   "id": "af1fd4de-fcd1-4583-a2f4-52cc51757283",
   "metadata": {},
   "outputs": [],
   "source": [
    "#join\n",
    "df = case.join(src,\n",
    "               on = case.source_id==src.source_id,\n",
    "               how = 'left')\\\n",
    "            .join(dept,\n",
    "                  on = case.dept_division==dept.dept_division,\n",
    "                  how = 'left')\\\n",
    "            .drop(case.source_id).drop(case.dept_division)"
   ]
  },
  {
   "cell_type": "code",
   "execution_count": 84,
   "id": "217ded40-067f-42d2-ae3f-ab9aac4ab3e9",
   "metadata": {},
   "outputs": [
    {
     "name": "stdout",
     "output_type": "stream",
     "text": [
      "-RECORD 0--------------------------------------\n",
      " case_id                | 1014127332           \n",
      " case_opened_date       | 2018-01-01 00:42:00  \n",
      " case_closed_date       | 2018-01-01 12:29:00  \n",
      " SLA_due_date           | 2020-09-26 00:42:00  \n",
      " case_late              | NO                   \n",
      " num_days_late          | -998.5087616000001   \n",
      " case_closed            | YES                  \n",
      " service_request_type   | Stray Animal         \n",
      " SLA_days               | 999.0                \n",
      " case_status            | Closed               \n",
      " request_address        | 2315  EL PASO ST,... \n",
      " council_district       | 5                    \n",
      " num_hours_late         | -23964.2102784       \n",
      " source_id              | svcCRMLS             \n",
      " source_username        | svcCRMLS             \n",
      " dept_division          | Field Operations     \n",
      " dept_name              | Animal Care Services \n",
      " standardized_dept_name | Animal Care Services \n",
      " dept_subject_to_SLA    | YES                  \n",
      "only showing top 1 row\n",
      "\n"
     ]
    }
   ],
   "source": [
    "df.show(1, vertical=True)"
   ]
  },
  {
   "cell_type": "code",
   "execution_count": 88,
   "id": "f8279333-a2e6-424d-8183-75748e2cdc93",
   "metadata": {},
   "outputs": [
    {
     "name": "stderr",
     "output_type": "stream",
     "text": [
      "[Stage 137:>                                                        (0 + 3) / 3]\r"
     ]
    },
    {
     "name": "stdout",
     "output_type": "stream",
     "text": [
      "(0 rows)\n",
      "\n"
     ]
    },
    {
     "name": "stderr",
     "output_type": "stream",
     "text": [
      "                                                                                \r"
     ]
    }
   ],
   "source": [
    "#null username\n",
    "df.filter(\"source_username is null\").show(vertical=True)"
   ]
  },
  {
   "cell_type": "code",
   "execution_count": 90,
   "id": "655445bf-6d90-495d-b736-5bbd1e4fb9ba",
   "metadata": {},
   "outputs": [
    {
     "name": "stderr",
     "output_type": "stream",
     "text": [
      "                                                                                \r"
     ]
    },
    {
     "name": "stdout",
     "output_type": "stream",
     "text": [
      "+--------------------+-----+\n",
      "|service_request_type|count|\n",
      "+--------------------+-----+\n",
      "|           No Pickup|27415|\n",
      "|Overgrown Yard/Trash|21448|\n",
      "|Cart Exchange Req...|12815|\n",
      "|        Damaged Cart|10262|\n",
      "|        Bandit Signs| 9741|\n",
      "|        Stray Animal| 9604|\n",
      "|Aggressive Animal...| 8976|\n",
      "|Front Or Side Yar...| 8953|\n",
      "|     Pot Hole Repair| 8145|\n",
      "|Junk Vehicle On P...| 7243|\n",
      "+--------------------+-----+\n",
      "only showing top 10 rows\n",
      "\n"
     ]
    },
    {
     "name": "stderr",
     "output_type": "stream",
     "text": [
      "[Stage 150:============================>                            (2 + 2) / 4]\r"
     ]
    },
    {
     "name": "stdout",
     "output_type": "stream",
     "text": [
      "+------------------------------+------------------+\n",
      "|service_request_type          |avg(num_days_late)|\n",
      "+------------------------------+------------------+\n",
      "|Traffic Sign Graffiti         |167.64583330000002|\n",
      "|Zoning: Junk Yards            |134.49897372428572|\n",
      "|Status: On-Going CIMS Projects|114.73973603267096|\n",
      "|Zoning: Recycle Yard          |109.63640396651162|\n",
      "|Complaint                     |106.29415441909525|\n",
      "|Curbstoning                   |85.67311176816668 |\n",
      "|Boarding Home Inspection      |84.38680411125    |\n",
      "|Vendors                       |75.36385313544446 |\n",
      "|Reservation Assistance        |66.03116319       |\n",
      "|\"Vacant Lot-State (12\"\")\"     |66.01824074       |\n",
      "+------------------------------+------------------+\n",
      "only showing top 10 rows\n",
      "\n"
     ]
    },
    {
     "name": "stderr",
     "output_type": "stream",
     "text": [
      "                                                                                \r"
     ]
    }
   ],
   "source": [
    "#ten most popular services\n",
    "df.groupby('service_request_type').count().sort(col('count').desc()).show(10)\n",
    "#ten most tardy services\n",
    "df.where('case_late==\"YES\"').groupBy('service_request_type')\\\n",
    "            .agg(mean('num_days_late')).sort(desc('avg(num_days_late)')).show(10, truncate=False)"
   ]
  },
  {
   "cell_type": "code",
   "execution_count": 91,
   "id": "02e308a7-f275-423d-9909-e68c65b86239",
   "metadata": {},
   "outputs": [
    {
     "name": "stderr",
     "output_type": "stream",
     "text": [
      "[Stage 155:==============>                                          (1 + 3) / 4]\r"
     ]
    },
    {
     "name": "stdout",
     "output_type": "stream",
     "text": [
      "+------------------------+------------------+\n",
      "|standardized_dept_name  |avg(num_days_late)|\n",
      "+------------------------+------------------+\n",
      "|Customer Service        |106.18038971065275|\n",
      "|DSD/Code Enforcement    |36.25423030779672 |\n",
      "|Parks & Recreation      |23.550176549963236|\n",
      "|Trans & Cap Improvements|15.815148058263395|\n",
      "|Animal Care Services    |15.480924657469522|\n",
      "|Solid Waste             |7.454184042992661 |\n",
      "|Metro Health            |4.339849306217296 |\n",
      "+------------------------+------------------+\n",
      "\n"
     ]
    },
    {
     "name": "stderr",
     "output_type": "stream",
     "text": [
      "                                                                                \r"
     ]
    }
   ],
   "source": [
    "#tardiness by dept\n",
    "df.where('case_late==\"YES\"').groupBy('standardized_dept_name')\\\n",
    "    .agg(mean('num_days_late')).sort(desc('avg(num_days_late)')).show(truncate=False)"
   ]
  },
  {
   "cell_type": "code",
   "execution_count": 92,
   "id": "3c54e4a3-cfe3-4e93-be1e-835769a7c5c9",
   "metadata": {},
   "outputs": [
    {
     "name": "stderr",
     "output_type": "stream",
     "text": [
      "[Stage 160:==============>                                          (1 + 3) / 4]\r"
     ]
    },
    {
     "name": "stdout",
     "output_type": "stream",
     "text": [
      "+------------------------+----------------------------------------+------------------+\n",
      "|standardized_dept_name  |service_request_type                    |avg(num_days_late)|\n",
      "+------------------------+----------------------------------------+------------------+\n",
      "|Trans & Cap Improvements|Traffic Sign Graffiti                   |167.64583330000002|\n",
      "|DSD/Code Enforcement    |Zoning: Junk Yards                      |134.49897372428572|\n",
      "|Trans & Cap Improvements|Status: On-Going CIMS Projects          |114.73973603267096|\n",
      "|DSD/Code Enforcement    |Zoning: Recycle Yard                    |109.63640396651162|\n",
      "|Customer Service        |Complaint                               |106.29415441909525|\n",
      "|DSD/Code Enforcement    |Curbstoning                             |85.67311176816668 |\n",
      "|DSD/Code Enforcement    |Boarding Home Inspection                |84.38680411125    |\n",
      "|DSD/Code Enforcement    |Vendors                                 |75.36385313544446 |\n",
      "|Parks & Recreation      |Reservation Assistance                  |66.03116319       |\n",
      "|DSD/Code Enforcement    |\"Vacant Lot-State (12\"\")\"               |66.01824074       |\n",
      "|DSD/Code Enforcement    |Bandit Signs                            |63.469712085258756|\n",
      "|Trans & Cap Improvements|Markings Installation SMO (NEW)         |62.24574940750001 |\n",
      "|DSD/Code Enforcement    |Permits Building                        |58.529738048127115|\n",
      "|DSD/Code Enforcement    |No Address Posted                       |57.5476130994737  |\n",
      "|Parks & Recreation      |Electrical                              |56.0168857690867  |\n",
      "|DSD/Code Enforcement    |Emergency: Main and Accessory Structures|55.25347222400001 |\n",
      "|Parks & Recreation      |Sportfield Lighting                     |54.654839143988646|\n",
      "|DSD/Code Enforcement    |Donation Container Enforcement          |52.726253857124995|\n",
      "|DSD/Code Enforcement    |Junk Vehicle - Wrecked or Dismantled    |49.728045912222214|\n",
      "|DSD/Code Enforcement    |Street Light New Development            |48.62973379575    |\n",
      "+------------------------+----------------------------------------+------------------+\n",
      "only showing top 20 rows\n",
      "\n"
     ]
    },
    {
     "name": "stderr",
     "output_type": "stream",
     "text": [
      "                                                                                \r"
     ]
    }
   ],
   "source": [
    "#tardiness by dept and request type\n",
    "df.where('case_late==\"YES\"').groupBy('standardized_dept_name', 'service_request_type')\\\n",
    "    .agg(mean('num_days_late')).sort(desc('avg(num_days_late)')).show(truncate=False)"
   ]
  }
 ],
 "metadata": {
  "kernelspec": {
   "display_name": "Python 3 (ipykernel)",
   "language": "python",
   "name": "python3"
  },
  "language_info": {
   "codemirror_mode": {
    "name": "ipython",
    "version": 3
   },
   "file_extension": ".py",
   "mimetype": "text/x-python",
   "name": "python",
   "nbconvert_exporter": "python",
   "pygments_lexer": "ipython3",
   "version": "3.8.10"
  }
 },
 "nbformat": 4,
 "nbformat_minor": 5
}
