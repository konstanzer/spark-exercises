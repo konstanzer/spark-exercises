{
 "cells": [
  {
   "cell_type": "code",
   "execution_count": 117,
   "id": "8a55561a-b7d0-4592-8069-3d2e3afc8ef8",
   "metadata": {
    "tags": []
   },
   "outputs": [],
   "source": [
    "import pyspark\n",
    "from pyspark.sql.functions import *\n",
    "\n",
    "from pydataset import data\n",
    "from vega_datasets import data as vega\n",
    "\n",
    "import pandas as pd\n",
    "import numpy as np"
   ]
  },
  {
   "cell_type": "code",
   "execution_count": 4,
   "id": "f4094fae-3893-4331-b9ba-38767bb63c4f",
   "metadata": {
    "collapsed": true,
    "jupyter": {
     "outputs_hidden": true
    },
    "tags": []
   },
   "outputs": [
    {
     "name": "stderr",
     "output_type": "stream",
     "text": [
      "WARNING: An illegal reflective access operation has occurred\n",
      "WARNING: Illegal reflective access by org.apache.spark.unsafe.Platform (file:/opt/miniconda3/lib/python3.8/site-packages/pyspark/jars/spark-unsafe_2.12-3.2.0.jar) to constructor java.nio.DirectByteBuffer(long,int)\n",
      "WARNING: Please consider reporting this to the maintainers of org.apache.spark.unsafe.Platform\n",
      "WARNING: Use --illegal-access=warn to enable warnings of further illegal reflective access operations\n",
      "WARNING: All illegal access operations will be denied in a future release\n",
      "Using Spark's default log4j profile: org/apache/spark/log4j-defaults.properties\n",
      "Setting default log level to \"WARN\".\n",
      "To adjust logging level use sc.setLogLevel(newLevel). For SparkR, use setLogLevel(newLevel).\n",
      "21/11/09 12:58:29 WARN NativeCodeLoader: Unable to load native-hadoop library for your platform... using builtin-java classes where applicable\n"
     ]
    }
   ],
   "source": [
    "spark = pyspark.sql.SparkSession.builder.getOrCreate()"
   ]
  },
  {
   "cell_type": "code",
   "execution_count": 5,
   "id": "e4da0629-611a-4542-aed6-256e25d223ad",
   "metadata": {
    "tags": []
   },
   "outputs": [
    {
     "name": "stderr",
     "output_type": "stream",
     "text": [
      "                                                                                \r"
     ]
    },
    {
     "name": "stdout",
     "output_type": "stream",
     "text": [
      "(3, 1)\n",
      "StructType(List(StructField(language,StringType,true)))\n",
      "+--------+\n",
      "|language|\n",
      "+--------+\n",
      "|  Python|\n",
      "|       R|\n",
      "|  MATLAB|\n",
      "+--------+\n",
      "\n"
     ]
    }
   ],
   "source": [
    "#1\n",
    "df = spark.createDataFrame(pd.DataFrame(\n",
    "    {'language': ['Python',\n",
    "                  'R',\n",
    "                  'MATLAB']\n",
    "    })\n",
    "                          )\n",
    "#shape\n",
    "print((df.count(), len(df.columns)))\n",
    "\n",
    "#schema\n",
    "print(df.schema)\n",
    "\n",
    "df.show()"
   ]
  },
  {
   "cell_type": "code",
   "execution_count": 118,
   "id": "3218761d-cd28-467d-8acd-b4bfa45cd271",
   "metadata": {},
   "outputs": [],
   "source": [
    "#datasets\n",
    "mpg = spark.createDataFrame(data('mpg'))\n",
    "tips = spark.createDataFrame(data('tips'))\n",
    "sea = spark.createDataFrame(\n",
    "    vega.seattle_weather().assign(\n",
    "        date=lambda df: df.date.astype(str)\n",
    "    ))\n",
    "sea = sea.withColumn('month', month('date'))\\\n",
    "            .withColumn('year', year('date'))\\\n",
    "            .withColumn('quarter', quarter('date'))"
   ]
  },
  {
   "cell_type": "code",
   "execution_count": 23,
   "id": "a98bb9d9-633d-4a9d-bc5a-aa441c97a79b",
   "metadata": {
    "tags": []
   },
   "outputs": [
    {
     "name": "stdout",
     "output_type": "stream",
     "text": [
      "+--------------------+\n",
      "|             Message|\n",
      "+--------------------+\n",
      "|The 1999 audi a4 ...|\n",
      "|The 1999 audi a4 ...|\n",
      "|The 2008 audi a4 ...|\n",
      "|The 2008 audi a4 ...|\n",
      "|The 1999 audi a4 ...|\n",
      "|The 1999 audi a4 ...|\n",
      "|The 2008 audi a4 ...|\n",
      "|The 1999 audi a4 ...|\n",
      "|The 1999 audi a4 ...|\n",
      "|The 2008 audi a4 ...|\n",
      "|The 2008 audi a4 ...|\n",
      "|The 1999 audi a4 ...|\n",
      "|The 1999 audi a4 ...|\n",
      "|The 2008 audi a4 ...|\n",
      "|The 2008 audi a4 ...|\n",
      "|The 1999 audi a6 ...|\n",
      "|The 2008 audi a6 ...|\n",
      "|The 2008 audi a6 ...|\n",
      "|The 2008 chevrole...|\n",
      "|The 2008 chevrole...|\n",
      "+--------------------+\n",
      "only showing top 20 rows\n",
      "\n"
     ]
    }
   ],
   "source": [
    "#2\n",
    "mpg.select(concat(lit('The '),\n",
    "                  mpg.year,\n",
    "                  lit(' '),\n",
    "                  mpg.manufacturer,\n",
    "                  lit(' '),\n",
    "                  mpg.model,\n",
    "                  lit(' has a '),\n",
    "                  mpg.cyl,\n",
    "                  lit(' cylinder engine.')\\\n",
    "                 ).alias('Message')\\\n",
    "          ).show()"
   ]
  },
  {
   "cell_type": "code",
   "execution_count": 25,
   "id": "e9233f35-c1c5-4b07-bfef-8c1a544bebfc",
   "metadata": {},
   "outputs": [
    {
     "name": "stdout",
     "output_type": "stream",
     "text": [
      "+----------+------------+\n",
      "|     trans|transmission|\n",
      "+----------+------------+\n",
      "|  auto(l5)|        auto|\n",
      "|manual(m5)|      manual|\n",
      "|manual(m6)|      manual|\n",
      "|  auto(av)|        auto|\n",
      "|  auto(l5)|        auto|\n",
      "|manual(m5)|      manual|\n",
      "|  auto(av)|        auto|\n",
      "|manual(m5)|      manual|\n",
      "|  auto(l5)|        auto|\n",
      "|manual(m6)|      manual|\n",
      "|  auto(s6)|        auto|\n",
      "|  auto(l5)|        auto|\n",
      "|manual(m5)|      manual|\n",
      "|  auto(s6)|        auto|\n",
      "|manual(m6)|      manual|\n",
      "|  auto(l5)|        auto|\n",
      "|  auto(s6)|        auto|\n",
      "|  auto(s6)|        auto|\n",
      "|  auto(l4)|        auto|\n",
      "|  auto(l4)|        auto|\n",
      "+----------+------------+\n",
      "only showing top 20 rows\n",
      "\n"
     ]
    }
   ],
   "source": [
    "#transform the trans column so that it only contains either manual or auto\n",
    "mpg.select('trans',\n",
    "           regexp_replace('trans', r'\\(\\w+\\)$', '')\\\n",
    "           .alias('transmission')\\\n",
    "          ).show()"
   ]
  },
  {
   "cell_type": "code",
   "execution_count": 48,
   "id": "07582181-3f73-4c99-b544-7d1a481eea3d",
   "metadata": {},
   "outputs": [
    {
     "name": "stdout",
     "output_type": "stream",
     "text": [
      "0.38114754098360654\n",
      "+------+------------------+-------------------+\n",
      "|   sex|                No|                Yes|\n",
      "+------+------------------+-------------------+\n",
      "|Female|0.1569209707691836|0.18215035269941035|\n",
      "|  Male|0.1606687151291298| 0.1527711752024851|\n",
      "+------+------------------+-------------------+\n",
      "\n"
     ]
    }
   ],
   "source": [
    "#3\n",
    "#percentage of observations smokers\n",
    "print(tips.filter(tips.smoker=='Yes').count() / tips.count())\n",
    "#column that contains the tip percentage\n",
    "tips = tips.select('*',\n",
    "                   (tips.tip/tips.total_bill)\\\n",
    "                   .alias('tip%'))\n",
    "#average tip percentage for each combination of sex, smoker\n",
    "tips.groupby('sex').pivot('smoker').mean('tip%').show()"
   ]
  },
  {
   "cell_type": "code",
   "execution_count": 103,
   "id": "3454e9ef-e607-43a0-a903-252a032c78f7",
   "metadata": {},
   "outputs": [
    {
     "name": "stdout",
     "output_type": "stream",
     "text": [
      "+-----+------------------+\n",
      "|month|    total_rainfall|\n",
      "+-----+------------------+\n",
      "|    7|              48.2|\n",
      "|    6|             132.9|\n",
      "|    8|             163.7|\n",
      "|    5|             207.5|\n",
      "|    9|235.49999999999997|\n",
      "|    4|             375.4|\n",
      "|    2|             422.0|\n",
      "|    1|465.99999999999994|\n",
      "|   10|             503.4|\n",
      "|    3|             606.2|\n",
      "|   12|             622.7|\n",
      "|   11|             642.5|\n",
      "+-----+------------------+\n",
      "\n"
     ]
    }
   ],
   "source": [
    "#4\n",
    "#November Rain\n",
    "(sea.groupBy(\"month\")\n",
    "    .agg(sum(\"precipitation\").alias(\"total_rainfall\"))\n",
    "    .sort(\"total_rainfall\")\n",
    "    .show()\n",
    ")"
   ]
  },
  {
   "cell_type": "code",
   "execution_count": 102,
   "id": "ba856f31-e3e3-48fd-a9b3-e619b1fa3383",
   "metadata": {},
   "outputs": [
    {
     "name": "stdout",
     "output_type": "stream",
     "text": [
      "+----+------------------+\n",
      "|year|        total_wind|\n",
      "+----+------------------+\n",
      "|2013|1100.8000000000002|\n",
      "|2015|            1153.3|\n",
      "|2014|1236.5000000000005|\n",
      "|2012|1244.6999999999998|\n",
      "+----+------------------+\n",
      "\n"
     ]
    }
   ],
   "source": [
    "(sea.groupBy(\"year\")\n",
    "    .agg(sum(\"wind\").alias(\"total_wind\"))\n",
    "    .sort(\"total_wind\")\n",
    "    .show()\n",
    ")"
   ]
  },
  {
   "cell_type": "code",
   "execution_count": 87,
   "id": "4925cc28-d01d-478e-a42a-0fe8db2221f6",
   "metadata": {},
   "outputs": [
    {
     "name": "stdout",
     "output_type": "stream",
     "text": [
      "+-------------+-------+---+----+----+---+\n",
      "|month_weather|drizzle|fog|rain|snow|sun|\n",
      "+-------------+-------+---+----+----+---+\n",
      "|            5|      1| 25|  16|   0| 82|\n",
      "|           10|      4| 55|  20|   0| 45|\n",
      "|            1|     10| 38|  35|   8| 33|\n",
      "|            6|      2| 14|  19|   0| 85|\n",
      "|            9|      5| 40|   4|   0| 71|\n",
      "|            2|      4| 36|  40|   3| 30|\n",
      "|           12|      2| 54|  23|   5| 40|\n",
      "|            7|      8| 13|  14|   0| 89|\n",
      "|            3|      3| 36|  37|   6| 42|\n",
      "|           11|      3| 50|  25|   0| 42|\n",
      "|            8|      8| 16|   6|   0| 94|\n",
      "|            4|      4| 34|  20|   1| 61|\n",
      "+-------------+-------+---+----+----+---+\n",
      "\n"
     ]
    }
   ],
   "source": [
    "#A Foggy Day in Vietnam\n",
    "sea.crosstab('month', 'weather').show()"
   ]
  },
  {
   "cell_type": "code",
   "execution_count": 133,
   "id": "1decd0b6-aec8-4364-974f-90b9d7d4ba1d",
   "metadata": {},
   "outputs": [
    {
     "data": {
      "text/plain": [
       "0.021739130434782608"
      ]
     },
     "execution_count": 133,
     "metadata": {},
     "output_type": "execute_result"
    }
   ],
   "source": [
    "#percentage of days rainy q3 of 2015\n",
    "r = sea.filter(expr('year == 2015 AND quarter == 3'))\n",
    "r.where(r.weather=='rain').count() / r.count()"
   ]
  },
  {
   "cell_type": "code",
   "execution_count": 132,
   "id": "77f4818e-1286-44a8-9b1d-a5895b583bfd",
   "metadata": {},
   "outputs": [
    {
     "name": "stdout",
     "output_type": "stream",
     "text": [
      "2012 0.4849315068493151\n",
      "2013 0.41643835616438357\n",
      "2014 0.410958904109589\n",
      "2015 0.39452054794520547\n"
     ]
    }
   ],
   "source": [
    "#percentage of days it rained by year\n",
    "for y in range(2012, 2016):\n",
    "    print(y, sea.where(expr(f'year=={y}'))\\\n",
    "          .where(expr('precipitation>0')).count()/365)"
   ]
  }
 ],
 "metadata": {
  "kernelspec": {
   "display_name": "Python 3 (ipykernel)",
   "language": "python",
   "name": "python3"
  },
  "language_info": {
   "codemirror_mode": {
    "name": "ipython",
    "version": 3
   },
   "file_extension": ".py",
   "mimetype": "text/x-python",
   "name": "python",
   "nbconvert_exporter": "python",
   "pygments_lexer": "ipython3",
   "version": "3.8.10"
  }
 },
 "nbformat": 4,
 "nbformat_minor": 5
}
